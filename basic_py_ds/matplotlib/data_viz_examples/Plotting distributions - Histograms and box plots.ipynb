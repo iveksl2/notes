{
 "cells": [
  {
   "cell_type": "code",
   "execution_count": 1,
   "metadata": {
    "collapsed": true,
    "deletable": true,
    "editable": true
   },
   "outputs": [],
   "source": [
    "%matplotlib inline\n",
    "import matplotlib.pyplot as plt\n",
    "import numpy as np"
   ]
  },
  {
   "cell_type": "markdown",
   "metadata": {
    "deletable": true,
    "editable": true
   },
   "source": [
    "# Histograms\n",
    "\n",
    "**Purpose**: Showing the spread of a data column.\n",
    "\n",
    "**matplotlib function**: [`hist(x)`](http://matplotlib.org/api/pyplot_api.html#matplotlib.pyplot.hist)\n",
    "\n",
    "* `x`: List of values to display the distribution of."
   ]
  },
  {
   "cell_type": "code",
   "execution_count": 2,
   "metadata": {
    "collapsed": false,
    "deletable": true,
    "editable": true
   },
   "outputs": [
    {
     "data": {
      "text/plain": [
       "''"
      ]
     },
     "execution_count": 2,
     "metadata": {},
     "output_type": "execute_result"
    },
    {
     "data": {
      "image/png": "[encoded data removed]",
      "text/plain": [
       "<matplotlib.figure.Figure at 0x108bfb6d8>"
      ]
     },
     "metadata": {},
     "output_type": "display_data"
    }
   ],
   "source": [
    "column_data = np.random.normal(42, 3, 1000)\n",
    "\n",
    "plt.figure()\n",
    "\n",
    "plt.hist(column_data)\n",
    ";"
   ]
  },
  {
   "cell_type": "markdown",
   "metadata": {
    "deletable": true,
    "editable": true
   },
   "source": [
    "**Commonly used parameters**:\n",
    "\n",
    "* `color`: Set the color of the bars in the histogram.\n",
    "\n",
    "* `bins`: Set the number of bins to display in the histogram, or specify specific bins.\n",
    "\n",
    "* `normed`: Indicate whether the bins should display fractions instead of counts."
   ]
  },
  {
   "cell_type": "code",
   "execution_count": 2,
   "metadata": {
    "collapsed": false,
    "deletable": true,
    "editable": true
   },
   "outputs": [
    {
     "data": {
      "text/plain": [
       "''"
      ]
     },
     "execution_count": 2,
     "metadata": {},
     "output_type": "execute_result"
    },
    {
     "data": {
      "image/png": "[encoded data removed]",
      "text/plain": [
       "<matplotlib.figure.Figure at 0x10bafe748>"
      ]
     },
     "metadata": {},
     "output_type": "display_data"
    }
   ],
   "source": [
    "column_data = np.random.normal(42, 3, 1000)\n",
    "\n",
    "plt.figure()\n",
    "\n",
    "plt.hist(column_data,\n",
    "         color='red',\n",
    "         bins=50,\n",
    "         normed=True)\n",
    ";"
   ]
  },
  {
   "cell_type": "markdown",
   "metadata": {
    "deletable": true,
    "editable": true
   },
   "source": [
    "# Box plots\n",
    "\n",
    "**Purpose**: Summarize the distribution of a data column.\n",
    "\n",
    "**matplotlib function**: [`boxplot(x)`](http://matplotlib.org/api/pyplot_api.html#matplotlib.pyplot.boxplot)\n",
    "\n",
    "* `x`: List of values (or list of lists of values) to display the distribution of."
   ]
  },
  {
   "cell_type": "code",
   "execution_count": 3,
   "metadata": {
    "collapsed": false,
    "deletable": true,
    "editable": true
   },
   "outputs": [
    {
     "data": {
      "text/plain": [
       "''"
      ]
     },
     "execution_count": 3,
     "metadata": {},
     "output_type": "execute_result"
    },
    {
     "data": {
      "image/png": "[encoded data removed]",
      "text/plain": [
       "<matplotlib.figure.Figure at 0x10a6d9128>"
      ]
     },
     "metadata": {},
     "output_type": "display_data"
    }
   ],
   "source": [
    "two_columns_data = [np.random.normal(57, 3, 1000),\n",
    "                    np.random.normal(42, 7, 1000)]\n",
    "\n",
    "plt.boxplot(two_columns_data)\n",
    ";"
   ]
  },
  {
   "cell_type": "markdown",
   "metadata": {
    "deletable": true,
    "editable": true
   },
   "source": [
    "**Commonly used parameters**:\n",
    "\n",
    "* `labels`: Set the labels for the box plots.\n",
    "\n",
    "* `notch`: Indicate whether notches should be created around the median.\n",
    "\n",
    "* `bootstrap`: Indicate whether the notches around the median should be bootstrapped."
   ]
  },
  {
   "cell_type": "code",
   "execution_count": 5,
   "metadata": {
    "collapsed": false,
    "deletable": true,
    "editable": true
   },
   "outputs": [
    {
     "data": {
      "text/plain": [
       "''"
      ]
     },
     "execution_count": 5,
     "metadata": {},
     "output_type": "execute_result"
    },
    {
     "data": {
      "image/png": "[encoded data removed]",
      "text/plain": [
       "<matplotlib.figure.Figure at 0x108e74da0>"
      ]
     },
     "metadata": {},
     "output_type": "display_data"
    }
   ],
   "source": [
    "two_columns_data = [np.random.normal(57, 3, 1000),\n",
    "                    np.random.normal(42, 7, 1000)]\n",
    "\n",
    "plt.boxplot(two_columns_data,\n",
    "            labels=['A', 'B'],\n",
    "            notch=True,\n",
    "            bootstrap=10000)\n",
    ";"
   ]
  },
  {
   "cell_type": "code",
   "execution_count": null,
   "metadata": {
    "collapsed": true,
    "deletable": true,
    "editable": true
   },
   "outputs": [],
   "source": []
  }
 ],
 "metadata": {
  "kernelspec": {
   "display_name": "Python 3",
   "language": "python",
   "name": "python3"
  },
  "language_info": {
   "codemirror_mode": {
    "name": "ipython",
    "version": 3
   },
   "file_extension": ".py",
   "mimetype": "text/x-python",
   "name": "python",
   "nbconvert_exporter": "python",
   "pygments_lexer": "ipython3",
   "version": "3.6.0"
  }
 },
 "nbformat": 4,
 "nbformat_minor": 0
}
