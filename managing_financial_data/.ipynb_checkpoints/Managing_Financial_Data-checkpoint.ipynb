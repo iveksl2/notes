{
 "cells": [
  {
   "cell_type": "markdown",
   "metadata": {},
   "source": [
    "## Panda's Basics"
   ]
  },
  {
   "cell_type": "code",
   "execution_count": 36,
   "metadata": {},
   "outputs": [],
   "source": [
    "import pandas as pd\n",
    "import numpy as np\n",
    "import matplotlib.pyplot as plt\n",
    "import seaborn as sns\n",
    "from sklearn import datasets"
   ]
  },
  {
   "cell_type": "code",
   "execution_count": 2,
   "metadata": {},
   "outputs": [
    {
     "name": "stdout",
     "output_type": "stream",
     "text": [
      "<class 'pandas.core.frame.DataFrame'>\n",
      "RangeIndex: 3167 entries, 0 to 3166\n",
      "Data columns (total 7 columns):\n",
      "Stock Symbol             3167 non-null object\n",
      "Company Name             3167 non-null object\n",
      "Last Sale                3165 non-null float64\n",
      "Market Capitalization    3167 non-null float64\n",
      "IPO Year                 1386 non-null float64\n",
      "Sector                   2767 non-null object\n",
      "Industry                 2767 non-null object\n",
      "dtypes: float64(3), object(4)\n",
      "memory usage: 173.3+ KB\n"
     ]
    },
    {
     "name": "stderr",
     "output_type": "stream",
     "text": [
      "/usr/local/lib/python3.6/site-packages/pandas/io/excel.py:329: FutureWarning: The `sheetname` keyword is deprecated, use `sheet_name` instead\n",
      "  **kwds)\n"
     ]
    }
   ],
   "source": [
    "# Create pd.ExcelFile() object\n",
    "xls = pd.ExcelFile('listings.xlsx')\n",
    "\n",
    "# Extract sheet names and store in exchanges\n",
    "exchanges = xls.sheet_names\n",
    "\n",
    "# Create listings dictionary with all sheet data\n",
    "listings = pd.read_excel(xls, sheetname=exchanges, na_values='n/a')\n",
    "\n",
    "# Inspect NASDAQ listings\n",
    "listings['nasdaq'].info()"
   ]
  },
  {
   "cell_type": "markdown",
   "metadata": {},
   "source": [
    "### Stacking sheets into 1 df"
   ]
  },
  {
   "cell_type": "code",
   "execution_count": 11,
   "metadata": {},
   "outputs": [
    {
     "name": "stderr",
     "output_type": "stream",
     "text": [
      "/usr/local/lib/python3.6/site-packages/pandas/io/excel.py:329: FutureWarning: The `sheetname` keyword is deprecated, use `sheet_name` instead\n",
      "  **kwds)\n"
     ]
    },
    {
     "name": "stdout",
     "output_type": "stream",
     "text": [
      "<class 'pandas.core.frame.DataFrame'>\n",
      "Int64Index: 6674 entries, 0 to 3146\n",
      "Data columns (total 8 columns):\n",
      "Stock Symbol             6674 non-null object\n",
      "Company Name             6674 non-null object\n",
      "Last Sale                6590 non-null float64\n",
      "Market Capitalization    6674 non-null float64\n",
      "IPO Year                 2852 non-null float64\n",
      "Sector                   5182 non-null object\n",
      "Industry                 5182 non-null object\n",
      "Exchange                 6674 non-null object\n",
      "dtypes: float64(3), object(5)\n",
      "memory usage: 469.3+ KB\n"
     ]
    }
   ],
   "source": [
    "# Create the pd.ExcelFile() object\n",
    "xls = pd.ExcelFile('listings.xlsx', na_values = 'n/a')\n",
    "\n",
    "# Extract the sheet names from xls\n",
    "exchanges = xls.sheet_names\n",
    "\n",
    "# Create an empty list: listings\n",
    "listings = []\n",
    "\n",
    "# Import the data\n",
    "for exchange in exchanges:\n",
    "    listing = pd.read_excel('listings.xlsx', sheetname=exchange, na_values='n/a')\n",
    "    listing['Exchange'] = exchange\n",
    "    listings.append(listing)\n",
    "\n",
    "# Concatenate the listings: listing_data\n",
    "listing_data = pd.concat(listings)\n",
    "\n",
    "# Inspect the results\n",
    "listing_data.info()"
   ]
  },
  {
   "cell_type": "markdown",
   "metadata": {},
   "source": [
    "## Accesing Data Online"
   ]
  },
  {
   "cell_type": "code",
   "execution_count": 4,
   "metadata": {
    "collapsed": true
   },
   "outputs": [],
   "source": [
    "from pandas_datareader.data import DataReader"
   ]
  },
  {
   "cell_type": "code",
   "execution_count": 5,
   "metadata": {
    "collapsed": true
   },
   "outputs": [],
   "source": [
    "from datetime import date # Date & time functionality"
   ]
  },
  {
   "cell_type": "code",
   "execution_count": 20,
   "metadata": {
    "collapsed": true
   },
   "outputs": [],
   "source": [
    "import matplotlib.pyplot as plt"
   ]
  },
  {
   "cell_type": "code",
   "execution_count": null,
   "metadata": {
    "collapsed": true
   },
   "outputs": [],
   "source": [
    "# Import matplotlib.pyplot\n",
    "import matplotlib.pyplot as plt\n",
    "\n",
    "# Set start and end dates\n",
    "start = date(2016, 1, 1)\n",
    "end = date(2016, 12, 31)\n",
    "\n",
    "# Set the ticker and data_source\n",
    "ticker = 'FB'\n",
    "data_source = 'google'\n",
    "\n",
    "# Import the data using DataReader\n",
    "stock_prices = DataReader(ticker, data_source, start, end)\n",
    "\n",
    "# Plot Close\n",
    "stock_prices['Close'].plot(title=ticker)\n",
    "\n",
    "# Show the plot\n",
    "plt.show()"
   ]
  },
  {
   "cell_type": "code",
   "execution_count": 12,
   "metadata": {
    "collapsed": true
   },
   "outputs": [],
   "source": [
    "series_code = 'DGS10'\n",
    "data_source = 'fred'\n",
    "start = date(1962,1,1)"
   ]
  },
  {
   "cell_type": "code",
   "execution_count": 13,
   "metadata": {
    "collapsed": true
   },
   "outputs": [],
   "source": [
    "data = DataReader(series_code, data_source, start)"
   ]
  },
  {
   "cell_type": "code",
   "execution_count": 15,
   "metadata": {
    "collapsed": true
   },
   "outputs": [],
   "source": [
    "series_name = '10-year Treasury'"
   ]
  },
  {
   "cell_type": "code",
   "execution_count": 17,
   "metadata": {
    "collapsed": true
   },
   "outputs": [],
   "source": [
    "data = data.rename(columns = {series_code: series_name})"
   ]
  },
  {
   "cell_type": "code",
   "execution_count": 21,
   "metadata": {},
   "outputs": [
    {
     "data": {
      "image/png": "[encoded data removed]",
      "text/plain": [
       "<Figure size 432x288 with 1 Axes>"
      ]
     },
     "metadata": {},
     "output_type": "display_data"
    }
   ],
   "source": [
    "data.plot(title=series_name); plt.show()"
   ]
  },
  {
   "cell_type": "code",
   "execution_count": 32,
   "metadata": {
    "collapsed": true
   },
   "outputs": [],
   "source": [
    "start = date(2000, 1, 1)"
   ]
  },
  {
   "cell_type": "code",
   "execution_count": 36,
   "metadata": {
    "collapsed": true
   },
   "outputs": [],
   "source": [
    "series = 'DCOILWTICO'"
   ]
  },
  {
   "cell_type": "code",
   "execution_count": 37,
   "metadata": {
    "collapsed": true
   },
   "outputs": [],
   "source": [
    "oil = DataReader(series, 'fred', start)"
   ]
  },
  {
   "cell_type": "code",
   "execution_count": 38,
   "metadata": {
    "collapsed": true
   },
   "outputs": [],
   "source": [
    "ticker = 'XOM'"
   ]
  },
  {
   "cell_type": "code",
   "execution_count": 40,
   "metadata": {
    "collapsed": true
   },
   "outputs": [],
   "source": [
    "stock = DataReader(ticker, 'yahoo', start)"
   ]
  },
  {
   "cell_type": "code",
   "execution_count": 44,
   "metadata": {
    "collapsed": true
   },
   "outputs": [],
   "source": [
    "data = pd.concat([stock[['Close']], oil], axis=1) # horizontally merged"
   ]
  },
  {
   "cell_type": "code",
   "execution_count": 45,
   "metadata": {},
   "outputs": [
    {
     "name": "stdout",
     "output_type": "stream",
     "text": [
      "<class 'pandas.core.frame.DataFrame'>\n",
      "DatetimeIndex: 4840 entries, 2000-01-03 to 2018-07-20\n",
      "Freq: B\n",
      "Data columns (total 2 columns):\n",
      "Close         4667 non-null float64\n",
      "DCOILWTICO    4655 non-null float64\n",
      "dtypes: float64(2)\n",
      "memory usage: 113.4 KB\n"
     ]
    }
   ],
   "source": [
    "data.info()"
   ]
  },
  {
   "cell_type": "code",
   "execution_count": 48,
   "metadata": {
    "collapsed": true
   },
   "outputs": [],
   "source": [
    "data.columns = ['Exxon', 'Oil Price']"
   ]
  },
  {
   "cell_type": "code",
   "execution_count": 49,
   "metadata": {},
   "outputs": [
    {
     "data": {
      "image/png": "[encoded data removed]",
      "text/plain": [
       "<Figure size 432x288 with 1 Axes>"
      ]
     },
     "metadata": {},
     "output_type": "display_data"
    }
   ],
   "source": [
    "data.plot(); plt.show()"
   ]
  },
  {
   "cell_type": "code",
   "execution_count": 50,
   "metadata": {},
   "outputs": [
    {
     "data": {
      "image/png": "[encoded data removed]",
      "text/plain": [
       "<Figure size 432x288 with 2 Axes>"
      ]
     },
     "metadata": {},
     "output_type": "display_data"
    }
   ],
   "source": [
    "## With Subplots\n",
    "# Set the start date\n",
    "start = date(1950, 1, 1)\n",
    "series = ['UNRATE', 'CIVPART']\n",
    "econ_data = DataReader(series, 'fred', start)\n",
    "econ_data.columns = ['Unemployment Rate', 'Participation Rate']\n",
    "econ_data.plot(subplots=True, title='Labor Market')\n",
    "plt.show()"
   ]
  },
  {
   "cell_type": "code",
   "execution_count": null,
   "metadata": {
    "collapsed": true
   },
   "outputs": [],
   "source": [
    "# Stocks vs Bonds\n",
    "# Set the start date\n",
    "start = date(2008,1,1)\n",
    "series = ['BAMLHYH0A0HYM2TRIV', 'SP500'] #  Bank of America Merrill Lynch US High Yield Total Return Index Value\n",
    "data = DataReader(series,'fred',start)\n",
    "data.plot(subplots=True,title='Performance Comparison')\n",
    "plt.show()"
   ]
  },
  {
   "cell_type": "code",
   "execution_count": null,
   "metadata": {
    "collapsed": true
   },
   "outputs": [],
   "source": [
    "## Can get panel data into multi-index DF w/ unstack function"
   ]
  },
  {
   "cell_type": "markdown",
   "metadata": {
    "collapsed": true
   },
   "source": [
    "###  Summarize your data"
   ]
  },
  {
   "cell_type": "markdown",
   "metadata": {
    "collapsed": true
   },
   "source": [
    "###  Visualize your data"
   ]
  },
  {
   "cell_type": "code",
   "execution_count": 2,
   "metadata": {
    "collapsed": true
   },
   "outputs": [],
   "source": [
    "import seaborn as sns"
   ]
  },
  {
   "cell_type": "code",
   "execution_count": null,
   "metadata": {
    "collapsed": true
   },
   "outputs": [],
   "source": [
    "import seaborn as sns\n",
    "import matplotlib.pyplot as plt\n",
    "# Plot a basic histogram of income per capita\n",
    "sns.distplot(income['Income per Capita']); plt.show()\n",
    "sns.distplot(income['Income per Capita'], bins  = 50, kde=False, rug=True); plt.show()"
   ]
  },
  {
   "cell_type": "code",
   "execution_count": null,
   "metadata": {
    "collapsed": true
   },
   "outputs": [],
   "source": [
    "growth = pd.read_csv('income_growth.csv', parse_dates=True).set_index('DATE')\n",
    "growth.describe()\n",
    "for column in growth.columns:\n",
    "    sns.distplot(growth[column], hist=False, label=column)\n",
    "plt.show()"
   ]
  },
  {
   "cell_type": "code",
   "execution_count": null,
   "metadata": {
    "collapsed": true
   },
   "outputs": [],
   "source": [
    "# Categorical variables visualization\n",
    "# Create the list exchanges\n",
    "exchanges = ['amex', 'nasdaq', 'nyse']\n",
    "\n",
    "# Iterate over exchanges then plot and show result\n",
    "for exchange in exchanges:\n",
    "    sectors = listings[exchange].Sector.value_counts()\n",
    "    # Sort in descending order and plot\n",
    "    sectors.sort_values(ascending=False).plot(kind='bar')\n",
    "    # Show the plot\n",
    "    plt.show()"
   ]
  },
  {
   "cell_type": "code",
   "execution_count": null,
   "metadata": {
    "collapsed": true
   },
   "outputs": [],
   "source": [
    "# Create lists\n",
    "exchanges = ['amex', 'nasdaq', 'nyse']\n",
    "all_listings = []\n",
    "# Use for loop to create listing_data\n",
    "for exchange in exchanges:\n",
    "    all_listings.append(listings[exchange])\n",
    "# Combine DataFrames\n",
    "listing_data = pd.concat(all_listings)\n",
    "# Select tech companies\n",
    "tech_companies = listing_data[listing_data.Sector == 'Technology']\n",
    "# Create ipo_years\n",
    "ipo_years = tech_companies['IPO Year']\n",
    "# Drop missing values and convert to int\n",
    "ipo_years = ipo_years.dropna().astype(int)\n",
    "# Count values, sort by year, and create a bar plot\n",
    "ipo_years.value_counts(ascending=True).plot(kind='bar', title='Tech IPOs by Year')\n",
    "# Rotate xticks and show result\n",
    "plt.xticks(rotation=45)\n",
    "# Show the plot\n",
    "plt.show()"
   ]
  },
  {
   "cell_type": "markdown",
   "metadata": {},
   "source": [
    "### Aggregation"
   ]
  },
  {
   "cell_type": "code",
   "execution_count": 2,
   "metadata": {
    "collapsed": true
   },
   "outputs": [],
   "source": [
    "listings = pd.read_excel('listings.xlsx')"
   ]
  },
  {
   "cell_type": "code",
   "execution_count": 5,
   "metadata": {},
   "outputs": [
    {
     "data": {
      "text/html": [
       "<div>\n",
       "<style scoped>\n",
       "    .dataframe tbody tr th:only-of-type {\n",
       "        vertical-align: middle;\n",
       "    }\n",
       "\n",
       "    .dataframe tbody tr th {\n",
       "        vertical-align: top;\n",
       "    }\n",
       "\n",
       "    .dataframe thead th {\n",
       "        text-align: right;\n",
       "    }\n",
       "</style>\n",
       "<table border=\"1\" class=\"dataframe\">\n",
       "  <thead>\n",
       "    <tr style=\"text-align: right;\">\n",
       "      <th></th>\n",
       "      <th>Stock Symbol</th>\n",
       "      <th>Company Name</th>\n",
       "      <th>Last Sale</th>\n",
       "      <th>Market Capitalization</th>\n",
       "      <th>IPO Year</th>\n",
       "      <th>Sector</th>\n",
       "      <th>Industry</th>\n",
       "    </tr>\n",
       "  </thead>\n",
       "  <tbody>\n",
       "    <tr>\n",
       "      <th>0</th>\n",
       "      <td>XXII</td>\n",
       "      <td>22nd Century Group, Inc</td>\n",
       "      <td>1.3300</td>\n",
       "      <td>1.206285e+08</td>\n",
       "      <td>NaN</td>\n",
       "      <td>Consumer Non-Durables</td>\n",
       "      <td>Farming/Seeds/Milling</td>\n",
       "    </tr>\n",
       "    <tr>\n",
       "      <th>1</th>\n",
       "      <td>FAX</td>\n",
       "      <td>Aberdeen Asia-Pacific Income Fund Inc</td>\n",
       "      <td>5.0000</td>\n",
       "      <td>1.266333e+09</td>\n",
       "      <td>1986.0</td>\n",
       "      <td>NaN</td>\n",
       "      <td>NaN</td>\n",
       "    </tr>\n",
       "    <tr>\n",
       "      <th>2</th>\n",
       "      <td>IAF</td>\n",
       "      <td>Aberdeen Australia Equity Fund Inc</td>\n",
       "      <td>6.1500</td>\n",
       "      <td>1.398653e+08</td>\n",
       "      <td>NaN</td>\n",
       "      <td>NaN</td>\n",
       "      <td>NaN</td>\n",
       "    </tr>\n",
       "    <tr>\n",
       "      <th>3</th>\n",
       "      <td>CH</td>\n",
       "      <td>Aberdeen Chile Fund, Inc.</td>\n",
       "      <td>7.2201</td>\n",
       "      <td>6.756346e+07</td>\n",
       "      <td>NaN</td>\n",
       "      <td>NaN</td>\n",
       "      <td>NaN</td>\n",
       "    </tr>\n",
       "    <tr>\n",
       "      <th>4</th>\n",
       "      <td>ABE</td>\n",
       "      <td>Aberdeen Emerging Markets Smaller Company Oppo...</td>\n",
       "      <td>13.3600</td>\n",
       "      <td>1.288430e+08</td>\n",
       "      <td>NaN</td>\n",
       "      <td>NaN</td>\n",
       "      <td>NaN</td>\n",
       "    </tr>\n",
       "  </tbody>\n",
       "</table>\n",
       "</div>"
      ],
      "text/plain": [
       "     Stock Symbol                                       Company Name  \\\n",
       "0            XXII                            22nd Century Group, Inc   \n",
       "1             FAX              Aberdeen Asia-Pacific Income Fund Inc   \n",
       "2             IAF                 Aberdeen Australia Equity Fund Inc   \n",
       "3              CH                          Aberdeen Chile Fund, Inc.   \n",
       "4  ABE             Aberdeen Emerging Markets Smaller Company Oppo...   \n",
       "\n",
       "   Last Sale  Market Capitalization  IPO Year                 Sector  \\\n",
       "0     1.3300           1.206285e+08       NaN  Consumer Non-Durables   \n",
       "1     5.0000           1.266333e+09    1986.0                    NaN   \n",
       "2     6.1500           1.398653e+08       NaN                    NaN   \n",
       "3     7.2201           6.756346e+07       NaN                    NaN   \n",
       "4    13.3600           1.288430e+08       NaN                    NaN   \n",
       "\n",
       "                Industry  \n",
       "0  Farming/Seeds/Milling  \n",
       "1                    NaN  \n",
       "2                    NaN  \n",
       "3                    NaN  \n",
       "4                    NaN  "
      ]
     },
     "execution_count": 5,
     "metadata": {},
     "output_type": "execute_result"
    }
   ],
   "source": [
    "listings.head()"
   ]
  },
  {
   "cell_type": "code",
   "execution_count": 84,
   "metadata": {},
   "outputs": [],
   "source": [
    "# Group listings by Sector and Exchange\n",
    "#by_sector_exchange = listings.groupby(['Sector', 'Exchange'])\n",
    "\n",
    "# Calculate the median market cap\n",
    "#mcap_by_sector_exchange = by_sector_exchange.market_cap_m.median()\n",
    "\n",
    "# Display the head of the result\n",
    "# print(mcap_by_sector_exchange.head())\n",
    "\n",
    "# Unstack mcap_by_sector_exchange\n",
    "# mcap_unstacked = mcap_by_sector_exchange.unstack()\n",
    "\n",
    "# Plot as a bar chart\n",
    "#mcap_unstacked.plot(kind='bar', title='Median Market Capitalization by Exchange')\n",
    "\n",
    "# Set the x label\n",
    "#plt.xlabel('USD mn')\n",
    "\n",
    "# Show the plot\n",
    "#plt.show()"
   ]
  },
  {
   "cell_type": "code",
   "execution_count": null,
   "metadata": {
    "collapsed": true
   },
   "outputs": [],
   "source": [
    "# Create market_cap_m\n",
    "listings['market_cap_m'] = listings['Market Capitalization'].div(1e6)\n",
    "\n",
    "# Group listing by both Sector and Exchange\n",
    "by_sector_exchange = listings.groupby(['Sector', 'Exchange'])\n",
    "\n",
    "# Subset market_cap_m of by_sector_exchange\n",
    "bse_mcm = by_sector_exchange['market_cap_m']\n",
    "\n",
    "# Calculate mean, median, and std in summary\n",
    "summary = bse_mcm.agg({'Average': 'mean', 'Median': 'median', 'Standard Deviation': 'std'})\n",
    "\n",
    "# Print the summary\n",
    "print(summary)"
   ]
  },
  {
   "cell_type": "code",
   "execution_count": 19,
   "metadata": {
    "collapsed": true
   },
   "outputs": [],
   "source": [
    "listings = listing_data"
   ]
  },
  {
   "cell_type": "code",
   "execution_count": 20,
   "metadata": {},
   "outputs": [
    {
     "name": "stderr",
     "output_type": "stream",
     "text": [
      "/usr/local/Cellar/ipython/6.4.0/libexec/vendor/lib/python3.6/site-packages/ipykernel_launcher.py:5: SettingWithCopyWarning: \n",
      "A value is trying to be set on a copy of a slice from a DataFrame.\n",
      "Try using .loc[row_indexer,col_indexer] = value instead\n",
      "\n",
      "See the caveats in the documentation: http://pandas.pydata.org/pandas-docs/stable/indexing.html#indexing-view-versus-copy\n",
      "  \"\"\"\n"
     ]
    },
    {
     "data": {
      "image/png": "[encoded data removed]",
      "text/plain": [
       "<Figure size 432x288 with 1 Axes>"
      ]
     },
     "metadata": {},
     "output_type": "display_data"
    }
   ],
   "source": [
    "# Select IPOs after 2000\n",
    "listings = listings[listings['IPO Year'] > 2000]\n",
    "\n",
    "# Convert IPO Year to integer\n",
    "listings['IPO Year'] = listings['IPO Year'].astype(int)\n",
    "\n",
    "# Create a countplot\n",
    "sns.countplot(x='IPO Year', hue='Exchange', data=listings)\n",
    "\n",
    "# Rotate xticks and show result\n",
    "plt.xticks(rotation=45)\n",
    "\n",
    "# Show the plot\n",
    "plt.show()\n"
   ]
  },
  {
   "cell_type": "code",
   "execution_count": 23,
   "metadata": {
    "collapsed": true
   },
   "outputs": [],
   "source": [
    "income_trend = pd.read_csv('https://assets.datacamp.com/production/course_3882/datasets/per_capita_income.csv')"
   ]
  },
  {
   "cell_type": "code",
   "execution_count": 29,
   "metadata": {},
   "outputs": [],
   "source": [
    "# Inspect the data\n",
    "#income_trend.info()\n",
    "\n",
    "# Create barplot\n",
    "#sns.barplot(x='Year', y='Income per Capita', data=income_trend)\n",
    "\n",
    "# Rotate xticks\n",
    "#plt.xticks(rotation=45)\n",
    "\n",
    "# Create second barplot\n",
    "#sns.barplot(x='Year', y='Income per Capita', data=income_trend, estimator=np.median)\n",
    "\n",
    "# Rotate xticks\n",
    "#plt.xticks(rotation=45)\n",
    "\n",
    "# Show the plot\n",
    "#plt.show()"
   ]
  },
  {
   "cell_type": "code",
   "execution_count": null,
   "metadata": {
    "collapsed": true
   },
   "outputs": [],
   "source": [
    "https://assets.datacamp.com/production/course_3882/datasets/per_capita_income.csv"
   ]
  },
  {
   "cell_type": "code",
   "execution_count": 26,
   "metadata": {},
   "outputs": [
    {
     "data": {
      "image/png": "[encoded data removed]",
      "text/plain": [
       "<Figure size 432x288 with 1 Axes>"
      ]
     },
     "metadata": {},
     "output_type": "display_data"
    }
   ],
   "source": [
    "# Exclude IPOs before 2000 and from the 'amex'\n",
    "listings = listings[(listings['IPO Year'] > 2000) & (listings.Exchange != 'amex')]\n",
    "\n",
    "# Convert IPO Year to integer\n",
    "listings['IPO Year'] = listings['IPO Year'].astype(int)\n",
    "\n",
    "# Create market_cap_m\n",
    "listings['market_cap_m'] = listings['Market Capitalization'].div(1e6)\n",
    "\n",
    "# Exclude outliers\n",
    "listings = listings[listings.market_cap_m < listings.market_cap_m.quantile(.95)]\n",
    "\n",
    "# Create the pointplot\n",
    "sns.pointplot(x='IPO Year', y='market_cap_m', hue='Exchange', data=listings)\n",
    "\n",
    "# Rotate xticks\n",
    "plt.xticks(rotation=45)\n",
    "\n",
    "# Show the plot\n",
    "plt.show()\n"
   ]
  },
  {
   "cell_type": "markdown",
   "metadata": {},
   "source": [
    "#### Distribution by category"
   ]
  },
  {
   "cell_type": "code",
   "execution_count": 64,
   "metadata": {},
   "outputs": [],
   "source": [
    "iris = datasets.load_iris()"
   ]
  },
  {
   "cell_type": "code",
   "execution_count": 65,
   "metadata": {},
   "outputs": [],
   "source": [
    "iris_df = pd.DataFrame(iris['data'], columns=iris['feature_names'])"
   ]
  },
  {
   "cell_type": "code",
   "execution_count": 76,
   "metadata": {},
   "outputs": [],
   "source": [
    "lookup_table = {0: 'setosa', 1: 'versicolor', 2: 'virginica'}"
   ]
  },
  {
   "cell_type": "code",
   "execution_count": 79,
   "metadata": {},
   "outputs": [],
   "source": [
    "iris_df['Species'] = iris_df['Species'].map(lookup_table)"
   ]
  },
  {
   "cell_type": "code",
   "execution_count": 85,
   "metadata": {},
   "outputs": [
    {
     "data": {
      "text/plain": [
       "<matplotlib.axes._subplots.AxesSubplot at 0x1163f6e48>"
      ]
     },
     "execution_count": 85,
     "metadata": {},
     "output_type": "execute_result"
    },
    {
     "data": {
      "image/png": "[encoded data removed]",
      "text/plain": [
       "<Figure size 432x288 with 1 Axes>"
      ]
     },
     "metadata": {},
     "output_type": "display_data"
    }
   ],
   "source": [
    "sns.barplot(x='Species', y = 'sepal length (cm)', data = iris_df)"
   ]
  },
  {
   "cell_type": "code",
   "execution_count": 83,
   "metadata": {
    "collapsed": true
   },
   "outputs": [],
   "source": [
    "# Create boxplot\n",
    "# sns.boxplot(x='Country', y='Inflation', data=inflation)\n",
    "# Show the plot\n",
    "# plt.show()\n",
    "# Close the plot\n",
    "#plt.close()\n",
    "# Create swarmplot\n",
    "#sns.swarmplot(x='Country', y='Inflation', data=inflation)\n",
    "# Show the plot\n",
    "# plt.show()\n"
   ]
  },
  {
   "cell_type": "code",
   "execution_count": 81,
   "metadata": {},
   "outputs": [
    {
     "data": {
      "text/plain": [
       "<matplotlib.axes._subplots.AxesSubplot at 0x11634fbe0>"
      ]
     },
     "execution_count": 81,
     "metadata": {},
     "output_type": "execute_result"
    },
    {
     "data": {
      "image/png": "[encoded data removed]",
      "text/plain": [
       "<Figure size 432x288 with 1 Axes>"
      ]
     },
     "metadata": {},
     "output_type": "display_data"
    }
   ],
   "source": [
    "sns.boxplot(x='Species', y = 'sepal length (cm)', data = iris_df)"
   ]
  },
  {
   "cell_type": "code",
   "execution_count": 82,
   "metadata": {},
   "outputs": [
    {
     "data": {
      "text/plain": [
       "<matplotlib.axes._subplots.AxesSubplot at 0x1163b95c0>"
      ]
     },
     "execution_count": 82,
     "metadata": {},
     "output_type": "execute_result"
    },
    {
     "data": {
      "image/png": "[encoded data removed]",
      "text/plain": [
       "<Figure size 432x288 with 1 Axes>"
      ]
     },
     "metadata": {},
     "output_type": "display_data"
    }
   ],
   "source": [
    "sns.swarmplot(x='Species', y = 'sepal length (cm)', data = iris_df)"
   ]
  }
 ],
 "metadata": {
  "kernelspec": {
   "display_name": "Python 3",
   "language": "python",
   "name": "python3"
  },
  "language_info": {
   "codemirror_mode": {
    "name": "ipython",
    "version": 3
   },
   "file_extension": ".py",
   "mimetype": "text/x-python",
   "name": "python",
   "nbconvert_exporter": "python",
   "pygments_lexer": "ipython3",
   "version": "3.6.5"
  }
 },
 "nbformat": 4,
 "nbformat_minor": 2
}
