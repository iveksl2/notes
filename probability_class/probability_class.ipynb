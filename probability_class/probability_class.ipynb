{
 "cells": [
  {
   "cell_type": "markdown",
   "metadata": {},
   "source": [
    "# Binomial Distribution"
   ]
  },
  {
   "cell_type": "markdown",
   "metadata": {},
   "source": [
    "### A distribution is a mathematical function that describes the range of possible values of a random variable"
   ]
  },
  {
   "cell_type": "code",
   "execution_count": 9,
   "metadata": {},
   "outputs": [],
   "source": [
    "# Generate 100 occurrences of flipping 10 coins, each with 30% probability\n",
    "# rbinom(100, 10, .3)"
   ]
  },
  {
   "cell_type": "code",
   "execution_count": 25,
   "metadata": {},
   "outputs": [
    {
     "data": {
      "text/html": [
       "0.24665"
      ],
      "text/latex": [
       "0.24665"
      ],
      "text/markdown": [
       "0.24665"
      ],
      "text/plain": [
       "[1] 0.24665"
      ]
     },
     "metadata": {},
     "output_type": "display_data"
    },
    {
     "data": {
      "text/html": [
       "0.24609375"
      ],
      "text/latex": [
       "0.24609375"
      ],
      "text/markdown": [
       "0.24609375"
      ],
      "text/plain": [
       "[1] 0.2460938"
      ]
     },
     "metadata": {},
     "output_type": "display_data"
    }
   ],
   "source": [
    "# Probability 5 are heads\n",
    "flips <- rbinom(100000, 10, .5)\n",
    "# density calculated through simulation\n",
    "mean(flips == 5) \n",
    "# Exact calculation long term expectation \n",
    "dbinom(5, 10, .5) "
   ]
  },
  {
   "cell_type": "code",
   "execution_count": 24,
   "metadata": {},
   "outputs": [
    {
     "data": {
      "text/html": [
       "0.37739"
      ],
      "text/latex": [
       "0.37739"
      ],
      "text/markdown": [
       "0.37739"
      ],
      "text/plain": [
       "[1] 0.37739"
      ]
     },
     "metadata": {},
     "output_type": "display_data"
    },
    {
     "data": {
      "text/html": [
       "0.376953125"
      ],
      "text/latex": [
       "0.376953125"
      ],
      "text/markdown": [
       "0.376953125"
      ],
      "text/plain": [
       "[1] 0.3769531"
      ]
     },
     "metadata": {},
     "output_type": "display_data"
    }
   ],
   "source": [
    "# Prob of 4 or less heads\n",
    "# Simulation \n",
    "mean(flips <= 4) \n",
    "# Calculation approach\n",
    "pbinom(4, 10, .5)"
   ]
  },
  {
   "cell_type": "code",
   "execution_count": 29,
   "metadata": {},
   "outputs": [
    {
     "data": {
      "text/html": [
       "0.1502683326"
      ],
      "text/latex": [
       "0.1502683326"
      ],
      "text/markdown": [
       "0.1502683326"
      ],
      "text/plain": [
       "[1] 0.1502683"
      ]
     },
     "metadata": {},
     "output_type": "display_data"
    },
    {
     "data": {
      "text/html": [
       "0.1471"
      ],
      "text/latex": [
       "0.1471"
      ],
      "text/markdown": [
       "0.1471"
      ],
      "text/plain": [
       "[1] 0.1471"
      ]
     },
     "metadata": {},
     "output_type": "display_data"
    }
   ],
   "source": [
    "# Calculate the probability that at least five coins are heads\n",
    "1 - pbinom(4, 10, .3)\n",
    "\n",
    "# Confirm your answer with a simulation of 10,000 trials\n",
    "mean(rbinom(10000, 10, .3) >= 5) # Can increase # of trials to improve convergence"
   ]
  },
  {
   "cell_type": "code",
   "execution_count": 31,
   "metadata": {
    "collapsed": true
   },
   "outputs": [],
   "source": [
    "# Expected Value & Variance\n",
    "# How the distribution is centered & how spread out it is \n",
    "# Variance is the average squared distance between mean and a random draw\n",
    "# EV in this case is mean\n",
    "# In Binom Dist:\n",
    "# EV = size * p\n",
    "# var(X) = size * p * (1 - p)"
   ]
  },
  {
   "cell_type": "code",
   "execution_count": 33,
   "metadata": {},
   "outputs": [
    {
     "data": {
      "text/html": [
       "7.5"
      ],
      "text/latex": [
       "7.5"
      ],
      "text/markdown": [
       "7.5"
      ],
      "text/plain": [
       "[1] 7.5"
      ]
     },
     "metadata": {},
     "output_type": "display_data"
    },
    {
     "data": {
      "text/html": [
       "7.5228"
      ],
      "text/latex": [
       "7.5228"
      ],
      "text/markdown": [
       "7.5228"
      ],
      "text/plain": [
       "[1] 7.5228"
      ]
     },
     "metadata": {},
     "output_type": "display_data"
    },
    {
     "data": {
      "text/html": [
       "5.25"
      ],
      "text/latex": [
       "5.25"
      ],
      "text/markdown": [
       "5.25"
      ],
      "text/plain": [
       "[1] 5.25"
      ]
     },
     "metadata": {},
     "output_type": "display_data"
    },
    {
     "data": {
      "text/html": [
       "5.18230614061406"
      ],
      "text/latex": [
       "5.18230614061406"
      ],
      "text/markdown": [
       "5.18230614061406"
      ],
      "text/plain": [
       "[1] 5.182306"
      ]
     },
     "metadata": {},
     "output_type": "display_data"
    }
   ],
   "source": [
    "#  expected value of a binomial distribution where 25 coins are flipped, each having a 30% chance of heads?\n",
    "# EV Formula\n",
    "25*.3\n",
    "# EV simulation \n",
    "mean(rbinom(10000, 25, .3))\n",
    "\n",
    "# Variance formula\n",
    "25*.3*(1-.3)\n",
    "\n",
    "# Variance simulation \n",
    "var(rbinom(10000, 25, .3))"
   ]
  },
  {
   "cell_type": "code",
   "execution_count": null,
   "metadata": {
    "collapsed": true
   },
   "outputs": [],
   "source": []
  }
 ],
 "metadata": {
  "kernelspec": {
   "display_name": "R",
   "language": "R",
   "name": "ir"
  },
  "language_info": {
   "codemirror_mode": "r",
   "file_extension": ".r",
   "mimetype": "text/x-r-source",
   "name": "R",
   "pygments_lexer": "r",
   "version": "3.5.0"
  }
 },
 "nbformat": 4,
 "nbformat_minor": 2
}
