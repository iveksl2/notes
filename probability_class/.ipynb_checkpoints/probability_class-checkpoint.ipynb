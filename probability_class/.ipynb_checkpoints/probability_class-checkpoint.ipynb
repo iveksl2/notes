{
 "cells": [
  {
   "cell_type": "markdown",
   "metadata": {},
   "source": [
    "DataCamp Foundations of Probability Class"
   ]
  },
  {
   "cell_type": "markdown",
   "metadata": {},
   "source": [
    "## Binomial Distribution"
   ]
  },
  {
   "cell_type": "markdown",
   "metadata": {},
   "source": [
    "### A distribution is a mathematical function that describes the range of possible values of a random variable"
   ]
  },
  {
   "cell_type": "code",
   "execution_count": 9,
   "metadata": {
    "collapsed": true
   },
   "outputs": [],
   "source": [
    "# Generate 100 occurrences of flipping 10 coins, each with 30% probability\n",
    "# rbinom(100, 10, .3)"
   ]
  },
  {
   "cell_type": "code",
   "execution_count": 25,
   "metadata": {},
   "outputs": [
    {
     "data": {
      "text/html": [
       "0.24665"
      ],
      "text/latex": [
       "0.24665"
      ],
      "text/markdown": [
       "0.24665"
      ],
      "text/plain": [
       "[1] 0.24665"
      ]
     },
     "metadata": {},
     "output_type": "display_data"
    },
    {
     "data": {
      "text/html": [
       "0.24609375"
      ],
      "text/latex": [
       "0.24609375"
      ],
      "text/markdown": [
       "0.24609375"
      ],
      "text/plain": [
       "[1] 0.2460938"
      ]
     },
     "metadata": {},
     "output_type": "display_data"
    }
   ],
   "source": [
    "# Probability 5 are heads\n",
    "flips <- rbinom(100000, 10, .5)\n",
    "# density calculated through simulation\n",
    "mean(flips == 5) \n",
    "# Exact calculation long term expectation \n",
    "dbinom(5, 10, .5) "
   ]
  },
  {
   "cell_type": "code",
   "execution_count": 24,
   "metadata": {},
   "outputs": [
    {
     "data": {
      "text/html": [
       "0.37739"
      ],
      "text/latex": [
       "0.37739"
      ],
      "text/markdown": [
       "0.37739"
      ],
      "text/plain": [
       "[1] 0.37739"
      ]
     },
     "metadata": {},
     "output_type": "display_data"
    },
    {
     "data": {
      "text/html": [
       "0.376953125"
      ],
      "text/latex": [
       "0.376953125"
      ],
      "text/markdown": [
       "0.376953125"
      ],
      "text/plain": [
       "[1] 0.3769531"
      ]
     },
     "metadata": {},
     "output_type": "display_data"
    }
   ],
   "source": [
    "# Prob of 4 or less heads\n",
    "# Simulation \n",
    "mean(flips <= 4) \n",
    "# Calculation approach\n",
    "pbinom(4, 10, .5)"
   ]
  },
  {
   "cell_type": "code",
   "execution_count": 29,
   "metadata": {},
   "outputs": [
    {
     "data": {
      "text/html": [
       "0.1502683326"
      ],
      "text/latex": [
       "0.1502683326"
      ],
      "text/markdown": [
       "0.1502683326"
      ],
      "text/plain": [
       "[1] 0.1502683"
      ]
     },
     "metadata": {},
     "output_type": "display_data"
    },
    {
     "data": {
      "text/html": [
       "0.1471"
      ],
      "text/latex": [
       "0.1471"
      ],
      "text/markdown": [
       "0.1471"
      ],
      "text/plain": [
       "[1] 0.1471"
      ]
     },
     "metadata": {},
     "output_type": "display_data"
    }
   ],
   "source": [
    "# Calculate the probability that at least five coins are heads\n",
    "1 - pbinom(4, 10, .3)\n",
    "\n",
    "# Confirm your answer with a simulation of 10,000 trials\n",
    "mean(rbinom(10000, 10, .3) >= 5) # Can increase # of trials to improve convergence"
   ]
  },
  {
   "cell_type": "code",
   "execution_count": 31,
   "metadata": {
    "collapsed": true
   },
   "outputs": [],
   "source": [
    "# Expected Value & Variance\n",
    "# How the distribution is centered & how spread out it is \n",
    "# Variance is the average squared distance between mean and a random draw\n",
    "# EV in this case is mean\n",
    "# In Binom Dist:\n",
    "# EV = size * p\n",
    "# var(X) = size * p * (1 - p)"
   ]
  },
  {
   "cell_type": "code",
   "execution_count": 33,
   "metadata": {},
   "outputs": [
    {
     "data": {
      "text/html": [
       "7.5"
      ],
      "text/latex": [
       "7.5"
      ],
      "text/markdown": [
       "7.5"
      ],
      "text/plain": [
       "[1] 7.5"
      ]
     },
     "metadata": {},
     "output_type": "display_data"
    },
    {
     "data": {
      "text/html": [
       "7.5228"
      ],
      "text/latex": [
       "7.5228"
      ],
      "text/markdown": [
       "7.5228"
      ],
      "text/plain": [
       "[1] 7.5228"
      ]
     },
     "metadata": {},
     "output_type": "display_data"
    },
    {
     "data": {
      "text/html": [
       "5.25"
      ],
      "text/latex": [
       "5.25"
      ],
      "text/markdown": [
       "5.25"
      ],
      "text/plain": [
       "[1] 5.25"
      ]
     },
     "metadata": {},
     "output_type": "display_data"
    },
    {
     "data": {
      "text/html": [
       "5.18230614061406"
      ],
      "text/latex": [
       "5.18230614061406"
      ],
      "text/markdown": [
       "5.18230614061406"
      ],
      "text/plain": [
       "[1] 5.182306"
      ]
     },
     "metadata": {},
     "output_type": "display_data"
    }
   ],
   "source": [
    "#  expected value of a binomial distribution where 25 coins are flipped, each having a 30% chance of heads?\n",
    "# EV Formula\n",
    "25*.3\n",
    "# EV simulation \n",
    "mean(rbinom(10000, 25, .3))\n",
    "\n",
    "# Variance formula\n",
    "25*.3*(1-.3)\n",
    "\n",
    "# Variance simulation \n",
    "var(rbinom(10000, 25, .3))"
   ]
  },
  {
   "cell_type": "markdown",
   "metadata": {
    "collapsed": true
   },
   "source": [
    "## Basic Probability "
   ]
  },
  {
   "cell_type": "code",
   "execution_count": 1,
   "metadata": {},
   "outputs": [
    {
     "data": {
      "text/html": [
       "0.24879"
      ],
      "text/latex": [
       "0.24879"
      ],
      "text/markdown": [
       "0.24879"
      ],
      "text/plain": [
       "[1] 0.24879"
      ]
     },
     "metadata": {},
     "output_type": "display_data"
    }
   ],
   "source": [
    "# AND\n",
    "# PR(A and B) = P(A) * P(B) # Assuming Independence\n",
    "# You've already simulated 100,000 flips of unfair coins A and B\n",
    "A <- rbinom(100000, 1, .4)\n",
    "B <- rbinom(100000, 1, .2)\n",
    "\n",
    "# Simulate 100,000 flips of coin C (70% chance of heads)\n",
    "C <- rbinom(100000, 1, .7)\n",
    "\n",
    "# Estimate the probability A, B, and C are all heads\n",
    "mean(A & B & C)"
   ]
  },
  {
   "cell_type": "code",
   "execution_count": null,
   "metadata": {
    "collapsed": true
   },
   "outputs": [],
   "source": [
    "# AND\n",
    "# PR(A or B) = P(A)+ P(B) - P(A) * P(B) # Assuming Independence\n",
    "mean(A | B) # Simulation helps when things get more complicated with multiple coins"
   ]
  },
  {
   "cell_type": "markdown",
   "metadata": {
    "collapsed": true
   },
   "source": [
    "When multiplying by a scalar the EV is multiplied by the scalar and new Variance multiplied by scalar squared "
   ]
  },
  {
   "cell_type": "markdown",
   "metadata": {},
   "source": [
    "_Adding two random variables_"
   ]
  },
  {
   "cell_type": "markdown",
   "metadata": {},
   "source": [
    "E[X + Y] = E[X] + E[Y] \n",
    "Var[X + Y] = Var[X] + Var[Y] \n",
    "Both assuming independence"
   ]
  },
  {
   "cell_type": "markdown",
   "metadata": {},
   "source": [
    "## Bayesian Statistics"
   ]
  },
  {
   "cell_type": "code",
   "execution_count": 1,
   "metadata": {},
   "outputs": [
    {
     "data": {
      "text/html": [
       "0.857693911592994"
      ],
      "text/latex": [
       "0.857693911592994"
      ],
      "text/markdown": [
       "0.857693911592994"
      ],
      "text/plain": [
       "[1] 0.8576939"
      ]
     },
     "metadata": {},
     "output_type": "display_data"
    }
   ],
   "source": [
    "# Simulate 50000 cases of flipping 20 coins from fair and from biased\n",
    "fair <- rbinom(50000, 20, .5)\n",
    "biased <- rbinom(50000, 20, .75)\n",
    "\n",
    "# How many fair cases, and how many biased, led to exactly 11 heads?\n",
    "fair_11 <- sum(fair == 11)\n",
    "biased_11 <- sum(biased ==11)\n",
    "\n",
    "# Find the fraction of fair coins that are 11 out of all coins that were 11\n",
    "fair_11 / (fair_11 + biased_11)"
   ]
  },
  {
   "cell_type": "markdown",
   "metadata": {},
   "source": [
    "_Including Prior Probability_"
   ]
  },
  {
   "cell_type": "code",
   "execution_count": null,
   "metadata": {
    "collapsed": true
   },
   "outputs": [],
   "source": []
  }
 ],
 "metadata": {
  "kernelspec": {
   "display_name": "R",
   "language": "R",
   "name": "ir"
  },
  "language_info": {
   "codemirror_mode": "r",
   "file_extension": ".r",
   "mimetype": "text/x-r-source",
   "name": "R",
   "pygments_lexer": "r",
   "version": "3.5.0"
  }
 },
 "nbformat": 4,
 "nbformat_minor": 2
}
